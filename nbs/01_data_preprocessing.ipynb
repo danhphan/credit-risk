{
 "cells": [
  {
   "cell_type": "code",
   "execution_count": 1,
   "id": "ed4b30f6",
   "metadata": {},
   "outputs": [],
   "source": [
    "import pandas as pd"
   ]
  },
  {
   "cell_type": "markdown",
   "id": "feaa704c",
   "metadata": {},
   "source": [
    "### 1. AU interest rate"
   ]
  },
  {
   "cell_type": "code",
   "execution_count": 2,
   "id": "ebc7bda1",
   "metadata": {
    "scrolled": true
   },
   "outputs": [
    {
     "data": {
      "text/plain": [
       "(8183, 3)"
      ]
     },
     "execution_count": 2,
     "metadata": {},
     "output_type": "execute_result"
    }
   ],
   "source": [
    "audf = pd.read_csv(\"../data/interest_rate_au.csv\")\n",
    "audf.shape"
   ]
  },
  {
   "cell_type": "code",
   "execution_count": 3,
   "id": "4f6f7406",
   "metadata": {},
   "outputs": [],
   "source": [
    "def clean_data(df):\n",
    "    df[\"date\"] = pd.to_datetime(df[\"date\"])\n",
    "    df = df[[\"date\", \"rate\"]]\n",
    "    return df"
   ]
  },
  {
   "cell_type": "code",
   "execution_count": 4,
   "id": "35ad1329",
   "metadata": {},
   "outputs": [
    {
     "data": {
      "text/html": [
       "<div>\n",
       "<style scoped>\n",
       "    .dataframe tbody tr th:only-of-type {\n",
       "        vertical-align: middle;\n",
       "    }\n",
       "\n",
       "    .dataframe tbody tr th {\n",
       "        vertical-align: top;\n",
       "    }\n",
       "\n",
       "    .dataframe thead th {\n",
       "        text-align: right;\n",
       "    }\n",
       "</style>\n",
       "<table border=\"1\" class=\"dataframe\">\n",
       "  <thead>\n",
       "    <tr style=\"text-align: right;\">\n",
       "      <th></th>\n",
       "      <th>date</th>\n",
       "      <th>rate</th>\n",
       "      <th>country</th>\n",
       "    </tr>\n",
       "  </thead>\n",
       "  <tbody>\n",
       "    <tr>\n",
       "      <th>0</th>\n",
       "      <td>2011-01-04</td>\n",
       "      <td>4.75</td>\n",
       "      <td>AU</td>\n",
       "    </tr>\n",
       "    <tr>\n",
       "      <th>1</th>\n",
       "      <td>1990-08-06</td>\n",
       "      <td>14.00</td>\n",
       "      <td>AU</td>\n",
       "    </tr>\n",
       "    <tr>\n",
       "      <th>2</th>\n",
       "      <td>1990-08-07</td>\n",
       "      <td>14.00</td>\n",
       "      <td>AU</td>\n",
       "    </tr>\n",
       "    <tr>\n",
       "      <th>3</th>\n",
       "      <td>1990-08-08</td>\n",
       "      <td>14.00</td>\n",
       "      <td>AU</td>\n",
       "    </tr>\n",
       "    <tr>\n",
       "      <th>4</th>\n",
       "      <td>1990-08-09</td>\n",
       "      <td>14.00</td>\n",
       "      <td>AU</td>\n",
       "    </tr>\n",
       "    <tr>\n",
       "      <th>...</th>\n",
       "      <td>...</td>\n",
       "      <td>...</td>\n",
       "      <td>...</td>\n",
       "    </tr>\n",
       "    <tr>\n",
       "      <th>8178</th>\n",
       "      <td>2010-12-23</td>\n",
       "      <td>4.75</td>\n",
       "      <td>AU</td>\n",
       "    </tr>\n",
       "    <tr>\n",
       "      <th>8179</th>\n",
       "      <td>2010-12-24</td>\n",
       "      <td>4.75</td>\n",
       "      <td>AU</td>\n",
       "    </tr>\n",
       "    <tr>\n",
       "      <th>8180</th>\n",
       "      <td>2010-12-29</td>\n",
       "      <td>4.75</td>\n",
       "      <td>AU</td>\n",
       "    </tr>\n",
       "    <tr>\n",
       "      <th>8181</th>\n",
       "      <td>2010-12-30</td>\n",
       "      <td>4.75</td>\n",
       "      <td>AU</td>\n",
       "    </tr>\n",
       "    <tr>\n",
       "      <th>8182</th>\n",
       "      <td>2010-12-31</td>\n",
       "      <td>4.75</td>\n",
       "      <td>AU</td>\n",
       "    </tr>\n",
       "  </tbody>\n",
       "</table>\n",
       "<p>8183 rows × 3 columns</p>\n",
       "</div>"
      ],
      "text/plain": [
       "            date   rate country\n",
       "0     2011-01-04   4.75      AU\n",
       "1     1990-08-06  14.00      AU\n",
       "2     1990-08-07  14.00      AU\n",
       "3     1990-08-08  14.00      AU\n",
       "4     1990-08-09  14.00      AU\n",
       "...          ...    ...     ...\n",
       "8178  2010-12-23   4.75      AU\n",
       "8179  2010-12-24   4.75      AU\n",
       "8180  2010-12-29   4.75      AU\n",
       "8181  2010-12-30   4.75      AU\n",
       "8182  2010-12-31   4.75      AU\n",
       "\n",
       "[8183 rows x 3 columns]"
      ]
     },
     "execution_count": 4,
     "metadata": {},
     "output_type": "execute_result"
    }
   ],
   "source": [
    "audf"
   ]
  },
  {
   "cell_type": "code",
   "execution_count": 5,
   "id": "52b20865",
   "metadata": {},
   "outputs": [
    {
     "data": {
      "text/plain": [
       "<AxesSubplot: xlabel='date'>"
      ]
     },
     "execution_count": 5,
     "metadata": {},
     "output_type": "execute_result"
    },
    {
     "data": {
      "image/png": "[encoded data removed]",
      "text/plain": [
       "<Figure size 640x480 with 1 Axes>"
      ]
     },
     "metadata": {},
     "output_type": "display_data"
    }
   ],
   "source": [
    "audf = clean_data(audf)\n",
    "audf.set_index(\"date\")[\"rate\"].plot()"
   ]
  },
  {
   "cell_type": "code",
   "execution_count": 6,
   "id": "3a3a3668",
   "metadata": {},
   "outputs": [],
   "source": [
    "# Get monthly rate (is the rate of the first of month)\n",
    "def get_monthly_rate(df):\n",
    "    df = df.groupby(pd.PeriodIndex(df['date'], freq=\"M\"))[\"rate\"].first().reset_index()\n",
    "    df[\"date\"] = df[\"date\"].dt.strftime('%Y-%m-01')\n",
    "    return df"
   ]
  },
  {
   "cell_type": "code",
   "execution_count": 7,
   "id": "3b2b3e4c",
   "metadata": {},
   "outputs": [
    {
     "data": {
      "text/html": [
       "<div>\n",
       "<style scoped>\n",
       "    .dataframe tbody tr th:only-of-type {\n",
       "        vertical-align: middle;\n",
       "    }\n",
       "\n",
       "    .dataframe tbody tr th {\n",
       "        vertical-align: top;\n",
       "    }\n",
       "\n",
       "    .dataframe thead th {\n",
       "        text-align: right;\n",
       "    }\n",
       "</style>\n",
       "<table border=\"1\" class=\"dataframe\">\n",
       "  <thead>\n",
       "    <tr style=\"text-align: right;\">\n",
       "      <th></th>\n",
       "      <th>date</th>\n",
       "      <th>rate</th>\n",
       "    </tr>\n",
       "  </thead>\n",
       "  <tbody>\n",
       "    <tr>\n",
       "      <th>0</th>\n",
       "      <td>1990-08-01</td>\n",
       "      <td>14.0</td>\n",
       "    </tr>\n",
       "    <tr>\n",
       "      <th>1</th>\n",
       "      <td>1990-09-01</td>\n",
       "      <td>14.0</td>\n",
       "    </tr>\n",
       "    <tr>\n",
       "      <th>2</th>\n",
       "      <td>1990-10-01</td>\n",
       "      <td>14.0</td>\n",
       "    </tr>\n",
       "    <tr>\n",
       "      <th>3</th>\n",
       "      <td>1990-11-01</td>\n",
       "      <td>13.0</td>\n",
       "    </tr>\n",
       "    <tr>\n",
       "      <th>4</th>\n",
       "      <td>1990-12-01</td>\n",
       "      <td>13.0</td>\n",
       "    </tr>\n",
       "  </tbody>\n",
       "</table>\n",
       "</div>"
      ],
      "text/plain": [
       "         date  rate\n",
       "0  1990-08-01  14.0\n",
       "1  1990-09-01  14.0\n",
       "2  1990-10-01  14.0\n",
       "3  1990-11-01  13.0\n",
       "4  1990-12-01  13.0"
      ]
     },
     "execution_count": 7,
     "metadata": {},
     "output_type": "execute_result"
    }
   ],
   "source": [
    "audf = get_monthly_rate(audf)\n",
    "audf.head()"
   ]
  },
  {
   "cell_type": "code",
   "execution_count": 8,
   "id": "3bb00cd9",
   "metadata": {},
   "outputs": [
    {
     "data": {
      "text/plain": [
       "(388, 2)"
      ]
     },
     "execution_count": 8,
     "metadata": {},
     "output_type": "execute_result"
    }
   ],
   "source": [
    "audf.shape"
   ]
  },
  {
   "cell_type": "code",
   "execution_count": 9,
   "id": "c2e85d3a",
   "metadata": {},
   "outputs": [],
   "source": [
    "audf[\"country\"] = \"AU\""
   ]
  },
  {
   "cell_type": "markdown",
   "id": "5452d2c4",
   "metadata": {},
   "source": [
    "### 1. US interest rate"
   ]
  },
  {
   "cell_type": "code",
   "execution_count": 10,
   "id": "5062aa2c",
   "metadata": {},
   "outputs": [
    {
     "data": {
      "text/plain": [
       "(820, 3)"
      ]
     },
     "execution_count": 10,
     "metadata": {},
     "output_type": "execute_result"
    }
   ],
   "source": [
    "usdf = pd.read_csv(\"../data/interest_rate_us.csv\")\n",
    "usdf.shape"
   ]
  },
  {
   "cell_type": "code",
   "execution_count": 11,
   "id": "cdf35fd3",
   "metadata": {},
   "outputs": [
    {
     "data": {
      "text/plain": [
       "<AxesSubplot: xlabel='date'>"
      ]
     },
     "execution_count": 11,
     "metadata": {},
     "output_type": "execute_result"
    },
    {
     "data": {
      "image/png": "[encoded data removed]",
      "text/plain": [
       "<Figure size 640x480 with 1 Axes>"
      ]
     },
     "metadata": {},
     "output_type": "display_data"
    }
   ],
   "source": [
    "usdf = clean_data(usdf)\n",
    "usdf.set_index(\"date\")[\"rate\"].plot()"
   ]
  },
  {
   "cell_type": "code",
   "execution_count": 12,
   "id": "4f4abffb",
   "metadata": {},
   "outputs": [
    {
     "data": {
      "text/html": [
       "<div>\n",
       "<style scoped>\n",
       "    .dataframe tbody tr th:only-of-type {\n",
       "        vertical-align: middle;\n",
       "    }\n",
       "\n",
       "    .dataframe tbody tr th {\n",
       "        vertical-align: top;\n",
       "    }\n",
       "\n",
       "    .dataframe thead th {\n",
       "        text-align: right;\n",
       "    }\n",
       "</style>\n",
       "<table border=\"1\" class=\"dataframe\">\n",
       "  <thead>\n",
       "    <tr style=\"text-align: right;\">\n",
       "      <th></th>\n",
       "      <th>date</th>\n",
       "      <th>rate</th>\n",
       "    </tr>\n",
       "  </thead>\n",
       "  <tbody>\n",
       "    <tr>\n",
       "      <th>0</th>\n",
       "      <td>1954-07-01</td>\n",
       "      <td>0.80</td>\n",
       "    </tr>\n",
       "    <tr>\n",
       "      <th>1</th>\n",
       "      <td>1954-08-01</td>\n",
       "      <td>1.22</td>\n",
       "    </tr>\n",
       "    <tr>\n",
       "      <th>2</th>\n",
       "      <td>1954-09-01</td>\n",
       "      <td>1.07</td>\n",
       "    </tr>\n",
       "    <tr>\n",
       "      <th>3</th>\n",
       "      <td>1954-10-01</td>\n",
       "      <td>0.85</td>\n",
       "    </tr>\n",
       "    <tr>\n",
       "      <th>4</th>\n",
       "      <td>1954-11-01</td>\n",
       "      <td>0.83</td>\n",
       "    </tr>\n",
       "  </tbody>\n",
       "</table>\n",
       "</div>"
      ],
      "text/plain": [
       "        date  rate\n",
       "0 1954-07-01  0.80\n",
       "1 1954-08-01  1.22\n",
       "2 1954-09-01  1.07\n",
       "3 1954-10-01  0.85\n",
       "4 1954-11-01  0.83"
      ]
     },
     "execution_count": 12,
     "metadata": {},
     "output_type": "execute_result"
    }
   ],
   "source": [
    "usdf.head()"
   ]
  },
  {
   "cell_type": "code",
   "execution_count": 13,
   "id": "99bf9ae4",
   "metadata": {},
   "outputs": [
    {
     "data": {
      "text/html": [
       "<div>\n",
       "<style scoped>\n",
       "    .dataframe tbody tr th:only-of-type {\n",
       "        vertical-align: middle;\n",
       "    }\n",
       "\n",
       "    .dataframe tbody tr th {\n",
       "        vertical-align: top;\n",
       "    }\n",
       "\n",
       "    .dataframe thead th {\n",
       "        text-align: right;\n",
       "    }\n",
       "</style>\n",
       "<table border=\"1\" class=\"dataframe\">\n",
       "  <thead>\n",
       "    <tr style=\"text-align: right;\">\n",
       "      <th></th>\n",
       "      <th>date</th>\n",
       "      <th>rate</th>\n",
       "    </tr>\n",
       "  </thead>\n",
       "  <tbody>\n",
       "    <tr>\n",
       "      <th>815</th>\n",
       "      <td>2022-06-01</td>\n",
       "      <td>1.21</td>\n",
       "    </tr>\n",
       "    <tr>\n",
       "      <th>816</th>\n",
       "      <td>2022-07-01</td>\n",
       "      <td>1.68</td>\n",
       "    </tr>\n",
       "    <tr>\n",
       "      <th>817</th>\n",
       "      <td>2022-08-01</td>\n",
       "      <td>2.33</td>\n",
       "    </tr>\n",
       "    <tr>\n",
       "      <th>818</th>\n",
       "      <td>2022-09-01</td>\n",
       "      <td>2.56</td>\n",
       "    </tr>\n",
       "    <tr>\n",
       "      <th>819</th>\n",
       "      <td>2022-10-01</td>\n",
       "      <td>3.08</td>\n",
       "    </tr>\n",
       "  </tbody>\n",
       "</table>\n",
       "</div>"
      ],
      "text/plain": [
       "          date  rate\n",
       "815 2022-06-01  1.21\n",
       "816 2022-07-01  1.68\n",
       "817 2022-08-01  2.33\n",
       "818 2022-09-01  2.56\n",
       "819 2022-10-01  3.08"
      ]
     },
     "execution_count": 13,
     "metadata": {},
     "output_type": "execute_result"
    }
   ],
   "source": [
    "usdf.tail()"
   ]
  },
  {
   "cell_type": "code",
   "execution_count": 14,
   "id": "ecbf99d8",
   "metadata": {},
   "outputs": [],
   "source": [
    "usdf[\"country\"] = \"US\""
   ]
  },
  {
   "cell_type": "markdown",
   "id": "fee28818",
   "metadata": {},
   "source": [
    "### UK interest rate"
   ]
  },
  {
   "cell_type": "code",
   "execution_count": 15,
   "id": "0797c84e",
   "metadata": {
    "scrolled": true
   },
   "outputs": [
    {
     "data": {
      "text/plain": [
       "(3788, 2)"
      ]
     },
     "execution_count": 15,
     "metadata": {},
     "output_type": "execute_result"
    }
   ],
   "source": [
    "ukdf = pd.read_csv(\"../data/interest_rate_uk.csv\")\n",
    "ukdf.shape"
   ]
  },
  {
   "cell_type": "code",
   "execution_count": 16,
   "id": "94415193",
   "metadata": {},
   "outputs": [
    {
     "data": {
      "text/html": [
       "<div>\n",
       "<style scoped>\n",
       "    .dataframe tbody tr th:only-of-type {\n",
       "        vertical-align: middle;\n",
       "    }\n",
       "\n",
       "    .dataframe tbody tr th {\n",
       "        vertical-align: top;\n",
       "    }\n",
       "\n",
       "    .dataframe thead th {\n",
       "        text-align: right;\n",
       "    }\n",
       "</style>\n",
       "<table border=\"1\" class=\"dataframe\">\n",
       "  <thead>\n",
       "    <tr style=\"text-align: right;\">\n",
       "      <th></th>\n",
       "      <th>Date</th>\n",
       "      <th>Bank Rate</th>\n",
       "    </tr>\n",
       "  </thead>\n",
       "  <tbody>\n",
       "    <tr>\n",
       "      <th>0</th>\n",
       "      <td>11-01-2008</td>\n",
       "      <td>5.5</td>\n",
       "    </tr>\n",
       "    <tr>\n",
       "      <th>1</th>\n",
       "      <td>14-01-2008</td>\n",
       "      <td>5.5</td>\n",
       "    </tr>\n",
       "    <tr>\n",
       "      <th>2</th>\n",
       "      <td>15-01-2008</td>\n",
       "      <td>5.5</td>\n",
       "    </tr>\n",
       "    <tr>\n",
       "      <th>3</th>\n",
       "      <td>16-01-2008</td>\n",
       "      <td>5.5</td>\n",
       "    </tr>\n",
       "    <tr>\n",
       "      <th>4</th>\n",
       "      <td>17-01-2008</td>\n",
       "      <td>5.5</td>\n",
       "    </tr>\n",
       "  </tbody>\n",
       "</table>\n",
       "</div>"
      ],
      "text/plain": [
       "         Date  Bank Rate\n",
       "0  11-01-2008        5.5\n",
       "1  14-01-2008        5.5\n",
       "2  15-01-2008        5.5\n",
       "3  16-01-2008        5.5\n",
       "4  17-01-2008        5.5"
      ]
     },
     "execution_count": 16,
     "metadata": {},
     "output_type": "execute_result"
    }
   ],
   "source": [
    "ukdf.head()"
   ]
  },
  {
   "cell_type": "code",
   "execution_count": 17,
   "id": "c6e3d21d",
   "metadata": {},
   "outputs": [
    {
     "data": {
      "text/html": [
       "<div>\n",
       "<style scoped>\n",
       "    .dataframe tbody tr th:only-of-type {\n",
       "        vertical-align: middle;\n",
       "    }\n",
       "\n",
       "    .dataframe tbody tr th {\n",
       "        vertical-align: top;\n",
       "    }\n",
       "\n",
       "    .dataframe thead th {\n",
       "        text-align: right;\n",
       "    }\n",
       "</style>\n",
       "<table border=\"1\" class=\"dataframe\">\n",
       "  <thead>\n",
       "    <tr style=\"text-align: right;\">\n",
       "      <th></th>\n",
       "      <th>date</th>\n",
       "      <th>rate</th>\n",
       "    </tr>\n",
       "  </thead>\n",
       "  <tbody>\n",
       "    <tr>\n",
       "      <th>0</th>\n",
       "      <td>2008-01-11</td>\n",
       "      <td>5.5</td>\n",
       "    </tr>\n",
       "    <tr>\n",
       "      <th>1</th>\n",
       "      <td>2008-01-14</td>\n",
       "      <td>5.5</td>\n",
       "    </tr>\n",
       "    <tr>\n",
       "      <th>2</th>\n",
       "      <td>2008-01-15</td>\n",
       "      <td>5.5</td>\n",
       "    </tr>\n",
       "    <tr>\n",
       "      <th>3</th>\n",
       "      <td>2008-01-16</td>\n",
       "      <td>5.5</td>\n",
       "    </tr>\n",
       "    <tr>\n",
       "      <th>4</th>\n",
       "      <td>2008-01-17</td>\n",
       "      <td>5.5</td>\n",
       "    </tr>\n",
       "  </tbody>\n",
       "</table>\n",
       "</div>"
      ],
      "text/plain": [
       "        date  rate\n",
       "0 2008-01-11   5.5\n",
       "1 2008-01-14   5.5\n",
       "2 2008-01-15   5.5\n",
       "3 2008-01-16   5.5\n",
       "4 2008-01-17   5.5"
      ]
     },
     "execution_count": 17,
     "metadata": {},
     "output_type": "execute_result"
    }
   ],
   "source": [
    "ukdf = ukdf.rename(columns={\"Date\":\"date\", \"Bank Rate\":\"rate\"})\n",
    "# Parse correct date format\n",
    "ukdf[\"date\"] = pd.to_datetime(ukdf[\"date\"], format='%d-%m-%Y')\n",
    "ukdf.head()"
   ]
  },
  {
   "cell_type": "code",
   "execution_count": 18,
   "id": "e9aaeff6",
   "metadata": {},
   "outputs": [
    {
     "data": {
      "text/html": [
       "<div>\n",
       "<style scoped>\n",
       "    .dataframe tbody tr th:only-of-type {\n",
       "        vertical-align: middle;\n",
       "    }\n",
       "\n",
       "    .dataframe tbody tr th {\n",
       "        vertical-align: top;\n",
       "    }\n",
       "\n",
       "    .dataframe thead th {\n",
       "        text-align: right;\n",
       "    }\n",
       "</style>\n",
       "<table border=\"1\" class=\"dataframe\">\n",
       "  <thead>\n",
       "    <tr style=\"text-align: right;\">\n",
       "      <th></th>\n",
       "      <th>date</th>\n",
       "      <th>rate</th>\n",
       "    </tr>\n",
       "  </thead>\n",
       "  <tbody>\n",
       "    <tr>\n",
       "      <th>0</th>\n",
       "      <td>2008-01-01</td>\n",
       "      <td>5.50</td>\n",
       "    </tr>\n",
       "    <tr>\n",
       "      <th>1</th>\n",
       "      <td>2008-02-01</td>\n",
       "      <td>5.50</td>\n",
       "    </tr>\n",
       "    <tr>\n",
       "      <th>2</th>\n",
       "      <td>2008-03-01</td>\n",
       "      <td>5.25</td>\n",
       "    </tr>\n",
       "    <tr>\n",
       "      <th>3</th>\n",
       "      <td>2008-04-01</td>\n",
       "      <td>5.25</td>\n",
       "    </tr>\n",
       "    <tr>\n",
       "      <th>4</th>\n",
       "      <td>2008-05-01</td>\n",
       "      <td>5.00</td>\n",
       "    </tr>\n",
       "  </tbody>\n",
       "</table>\n",
       "</div>"
      ],
      "text/plain": [
       "         date  rate\n",
       "0  2008-01-01  5.50\n",
       "1  2008-02-01  5.50\n",
       "2  2008-03-01  5.25\n",
       "3  2008-04-01  5.25\n",
       "4  2008-05-01  5.00"
      ]
     },
     "execution_count": 18,
     "metadata": {},
     "output_type": "execute_result"
    }
   ],
   "source": [
    "ukdf = get_monthly_rate(ukdf)\n",
    "ukdf.head()"
   ]
  },
  {
   "cell_type": "code",
   "execution_count": 19,
   "id": "7852d500",
   "metadata": {},
   "outputs": [],
   "source": [
    "ukdf[\"country\"] = \"UK\""
   ]
  },
  {
   "cell_type": "markdown",
   "id": "2be3febc",
   "metadata": {},
   "source": [
    "### Merging data"
   ]
  },
  {
   "cell_type": "code",
   "execution_count": 20,
   "id": "475e0efc",
   "metadata": {},
   "outputs": [
    {
     "data": {
      "text/plain": [
       "(321, 1)"
      ]
     },
     "execution_count": 20,
     "metadata": {},
     "output_type": "execute_result"
    }
   ],
   "source": [
    "# Create a monthly date range\n",
    "def get_date_range(start, end):    \n",
    "    date_range = pd.date_range(start=start, end=end, freq='M')\n",
    "    df = pd.DataFrame({\"date\": date_range})\n",
    "    df[\"date\"] = df[\"date\"].to_numpy().astype('datetime64[M]')\n",
    "    return df\n",
    "    \n",
    "df = get_date_range(start='1/1/1996', end='10/1/2022')\n",
    "df.shape"
   ]
  },
  {
   "cell_type": "code",
   "execution_count": 21,
   "id": "0c781d11",
   "metadata": {},
   "outputs": [
    {
     "name": "stdout",
     "output_type": "stream",
     "text": [
      "(81, 3) Index(['date', 'rate', 'country'], dtype='object')\n",
      "(81, 3) Index(['date', 'rate', 'country'], dtype='object')\n",
      "(81, 3) Index(['date', 'rate', 'country'], dtype='object')\n"
     ]
    }
   ],
   "source": [
    "df_list = [usdf, ukdf, audf]\n",
    "\n",
    "def merge_date(df_list, start, end):\n",
    "    dfs = []\n",
    "    for adf in df_list:\n",
    "        adf[\"date\"] = pd.to_datetime(adf[\"date\"])\n",
    "        df = get_date_range(start, end)\n",
    "        df = df.merge(adf, how='left', on='date')\n",
    "        print(df.shape, df.columns)\n",
    "        dfs.append(df)\n",
    "    return dfs\n",
    "\n",
    "dfs = merge_date(df_list, start='1/1/2016', end='10/1/2022')"
   ]
  },
  {
   "cell_type": "code",
   "execution_count": 22,
   "id": "4aabd9a6",
   "metadata": {},
   "outputs": [
    {
     "data": {
      "image/png": "[encoded data removed]",
      "text/plain": [
       "<Figure size 1200x600 with 1 Axes>"
      ]
     },
     "metadata": {},
     "output_type": "display_data"
    }
   ],
   "source": [
    "for df in dfs:\n",
    "    df.set_index(\"date\")[\"rate\"].plot(figsize=(12,6))"
   ]
  },
  {
   "cell_type": "code",
   "execution_count": 23,
   "id": "7ee79767",
   "metadata": {},
   "outputs": [],
   "source": [
    "dfs = pd.concat(dfs)"
   ]
  },
  {
   "cell_type": "code",
   "execution_count": 24,
   "id": "204bcab5",
   "metadata": {},
   "outputs": [
    {
     "data": {
      "text/plain": [
       "((820, 3), (388, 3), (243, 3))"
      ]
     },
     "execution_count": 24,
     "metadata": {},
     "output_type": "execute_result"
    }
   ],
   "source": [
    "usdf.shape, audf.shape, dfs.shape"
   ]
  },
  {
   "cell_type": "code",
   "execution_count": 25,
   "id": "b0b8e3fe",
   "metadata": {},
   "outputs": [
    {
     "data": {
      "text/html": [
       "<div>\n",
       "<style scoped>\n",
       "    .dataframe tbody tr th:only-of-type {\n",
       "        vertical-align: middle;\n",
       "    }\n",
       "\n",
       "    .dataframe tbody tr th {\n",
       "        vertical-align: top;\n",
       "    }\n",
       "\n",
       "    .dataframe thead th {\n",
       "        text-align: right;\n",
       "    }\n",
       "</style>\n",
       "<table border=\"1\" class=\"dataframe\">\n",
       "  <thead>\n",
       "    <tr style=\"text-align: right;\">\n",
       "      <th></th>\n",
       "      <th>date</th>\n",
       "      <th>rate</th>\n",
       "      <th>country</th>\n",
       "    </tr>\n",
       "  </thead>\n",
       "  <tbody>\n",
       "    <tr>\n",
       "      <th>0</th>\n",
       "      <td>2016-01-01</td>\n",
       "      <td>0.34</td>\n",
       "      <td>US</td>\n",
       "    </tr>\n",
       "    <tr>\n",
       "      <th>1</th>\n",
       "      <td>2016-02-01</td>\n",
       "      <td>0.38</td>\n",
       "      <td>US</td>\n",
       "    </tr>\n",
       "    <tr>\n",
       "      <th>2</th>\n",
       "      <td>2016-03-01</td>\n",
       "      <td>0.36</td>\n",
       "      <td>US</td>\n",
       "    </tr>\n",
       "    <tr>\n",
       "      <th>3</th>\n",
       "      <td>2016-04-01</td>\n",
       "      <td>0.37</td>\n",
       "      <td>US</td>\n",
       "    </tr>\n",
       "    <tr>\n",
       "      <th>4</th>\n",
       "      <td>2016-05-01</td>\n",
       "      <td>0.37</td>\n",
       "      <td>US</td>\n",
       "    </tr>\n",
       "  </tbody>\n",
       "</table>\n",
       "</div>"
      ],
      "text/plain": [
       "        date  rate country\n",
       "0 2016-01-01  0.34      US\n",
       "1 2016-02-01  0.38      US\n",
       "2 2016-03-01  0.36      US\n",
       "3 2016-04-01  0.37      US\n",
       "4 2016-05-01  0.37      US"
      ]
     },
     "execution_count": 25,
     "metadata": {},
     "output_type": "execute_result"
    }
   ],
   "source": [
    "dfs.head()"
   ]
  },
  {
   "cell_type": "code",
   "execution_count": 26,
   "id": "a5d2a2e8",
   "metadata": {},
   "outputs": [],
   "source": [
    "dfs.to_csv(\"../data/interest_rates.csv\", index=False)"
   ]
  },
  {
   "cell_type": "code",
   "execution_count": null,
   "id": "12cd4439",
   "metadata": {},
   "outputs": [],
   "source": []
  }
 ],
 "metadata": {
  "kernelspec": {
   "display_name": "Python 3 (ipykernel)",
   "language": "python",
   "name": "python3"
  },
  "language_info": {
   "codemirror_mode": {
    "name": "ipython",
    "version": 3
   },
   "file_extension": ".py",
   "mimetype": "text/x-python",
   "name": "python",
   "nbconvert_exporter": "python",
   "pygments_lexer": "ipython3",
   "version": "3.9.15"
  }
 },
 "nbformat": 4,
 "nbformat_minor": 5
}
